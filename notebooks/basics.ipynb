{
 "cells": [
  {
   "cell_type": "markdown",
   "id": "ca9922cd-3909-4677-a03b-01a6e0ff60ba",
   "metadata": {},
   "source": [
    "## Conversation Cookbook\n",
    "\n",
    "This notebook shows common recipes for working with phidata conversations"
   ]
  },
  {
   "cell_type": "markdown",
   "id": "80543754-3d90-4def-b473-d64433a5de84",
   "metadata": {},
   "source": [
    "### Basic conversation"
   ]
  },
  {
   "cell_type": "code",
   "execution_count": null,
   "id": "5ebc982b-56fe-4037-9537-3bf14c414b1e",
   "metadata": {
    "scrolled": true,
    "tags": []
   },
   "outputs": [],
   "source": [
    "from phi.conversation import Conversation\n",
    "\n",
    "conversation = Conversation()\n",
    "conversation.print_response(\"Share a quick healthy breakfast recipe.\")"
   ]
  },
  {
   "cell_type": "markdown",
   "id": "7b9d7d92-5ec2-4734-a513-d622d762f9b0",
   "metadata": {},
   "source": [
    "### Adding an Agent to the conversation\n",
    "\n",
    "To add an Agent to the conversation:\n",
    "\n",
    "1. Import the agent\n",
    "2. Add it to the conversation"
   ]
  },
  {
   "cell_type": "code",
   "execution_count": null,
   "id": "896b1f4d-6cad-498c-ac8c-9b28ea1d61b9",
   "metadata": {},
   "outputs": [],
   "source": [
    "from phi.agent.shell import ShellAgent\n",
    "from phi.conversation import Conversation\n",
    "\n",
    "shell_conversation = Conversation(agents=[ShellAgent()])\n",
    "\n",
    "shell_conversation.print_response(\"Tell me the files in this directory and their size\", stream=False)"
   ]
  }
 ],
 "metadata": {
  "kernelspec": {
   "display_name": "Python 3 (ipykernel)",
   "language": "python",
   "name": "python3"
  },
  "language_info": {
   "codemirror_mode": {
    "name": "ipython",
    "version": 3
   },
   "file_extension": ".py",
   "mimetype": "text/x-python",
   "name": "python",
   "nbconvert_exporter": "python",
   "pygments_lexer": "ipython3",
   "version": "3.11.5"
  }
 },
 "nbformat": 4,
 "nbformat_minor": 5
}
