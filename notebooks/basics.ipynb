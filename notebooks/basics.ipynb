{
 "cells": [
  {
   "cell_type": "markdown",
   "id": "ca9922cd-3909-4677-a03b-01a6e0ff60ba",
   "metadata": {},
   "source": [
    "## Assistant Cookbook\n",
    "\n",
    "This notebook shows common recipes for working with phidata assistants"
   ]
  },
  {
   "cell_type": "markdown",
   "id": "80543754-3d90-4def-b473-d64433a5de84",
   "metadata": {},
   "source": [
    "### Basic Assistant"
   ]
  },
  {
   "cell_type": "code",
   "execution_count": null,
   "id": "5ebc982b-56fe-4037-9537-3bf14c414b1e",
   "metadata": {
    "scrolled": true,
    "tags": []
   },
   "outputs": [],
   "source": [
    "from phi.assistant import Assistant\n",
    "\n",
    "assistant = Assistant()\n",
    "assistant.print_response(\"Share a quick healthy breakfast recipe.\")"
   ]
  },
  {
   "cell_type": "markdown",
   "id": "7b9d7d92-5ec2-4734-a513-d622d762f9b0",
   "metadata": {},
   "source": [
    "### Adding tools to an Assistant\n",
    "\n",
    "To add tools to an assistant:\n",
    "\n",
    "1. Import the tools\n",
    "2. Add it to the assistant"
   ]
  },
  {
   "cell_type": "code",
   "execution_count": null,
   "id": "896b1f4d-6cad-498c-ac8c-9b28ea1d61b9",
   "metadata": {},
   "outputs": [],
   "source": [
    "from phi.tools.shell import ShellTools\n",
    "from phi.assistant import Assistant\n",
    "\n",
    "shell_assistant = Assistant(tools=[ShellTools()])\n",
    "\n",
    "shell_assistant.print_response(\"Show me the files in this directory and their size\", stream=False)"
   ]
  }
 ],
 "metadata": {
  "kernelspec": {
   "display_name": "Python 3 (ipykernel)",
   "language": "python",
   "name": "python3"
  },
  "language_info": {
   "codemirror_mode": {
    "name": "ipython",
    "version": 3
   },
   "file_extension": ".py",
   "mimetype": "text/x-python",
   "name": "python",
   "nbconvert_exporter": "python",
   "pygments_lexer": "ipython3",
   "version": "3.11.5"
  }
 },
 "nbformat": 4,
 "nbformat_minor": 5
}
