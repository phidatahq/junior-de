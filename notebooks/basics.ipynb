{
 "cells": [
  {
   "cell_type": "markdown",
   "id": "ca9922cd-3909-4677-a03b-01a6e0ff60ba",
   "metadata": {},
   "source": [
    "## Conversation Cookbook\n",
    "\n",
    "This notebook shows common recipes for working with phidata conversations"
   ]
  },
  {
   "cell_type": "markdown",
   "id": "80543754-3d90-4def-b473-d64433a5de84",
   "metadata": {},
   "source": [
    "### Basic conversation"
   ]
  },
  {
   "cell_type": "code",
   "execution_count": 1,
   "id": "5ebc982b-56fe-4037-9537-3bf14c414b1e",
   "metadata": {
    "scrolled": true,
    "tags": []
   },
   "outputs": [
    {
     "data": {
      "application/vnd.jupyter.widget-view+json": {
       "model_id": "94d85ebeac4f44498300f44537771ccf",
       "version_major": 2,
       "version_minor": 0
      },
      "text/plain": [
       "Output()"
      ]
     },
     "metadata": {},
     "output_type": "display_data"
    },
    {
     "data": {
      "text/html": [
       "<pre style=\"white-space:pre;overflow-x:auto;line-height:normal;font-family:Menlo,'DejaVu Sans Mono',consolas,'Courier New',monospace\"></pre>\n"
      ],
      "text/plain": []
     },
     "metadata": {},
     "output_type": "display_data"
    }
   ],
   "source": [
    "from phi.conversation import Conversation\n",
    "\n",
    "conversation = Conversation()\n",
    "conversation.print_response(\"Share a quick healthy breakfast recipe.\")"
   ]
  },
  {
   "cell_type": "markdown",
   "id": "7b9d7d92-5ec2-4734-a513-d622d762f9b0",
   "metadata": {},
   "source": [
    "### Adding an Agent to the conversation\n",
    "\n",
    "To add an Agent to the conversation:\n",
    "\n",
    "1. Import the agent\n",
    "2. Add it to the conversation"
   ]
  },
  {
   "cell_type": "code",
   "execution_count": 2,
   "id": "896b1f4d-6cad-498c-ac8c-9b28ea1d61b9",
   "metadata": {},
   "outputs": [
    {
     "data": {
      "text/html": [
       "<pre style=\"white-space:pre;overflow-x:auto;line-height:normal;font-family:Menlo,'DejaVu Sans Mono',consolas,'Courier New',monospace\"><span style=\"color: #000080; text-decoration-color: #000080\">INFO    </span> Running shell command: <span style=\"font-weight: bold\">[</span><span style=\"color: #008000; text-decoration-color: #008000\">'ls'</span>, <span style=\"color: #008000; text-decoration-color: #008000\">'-lh'</span><span style=\"font-weight: bold\">]</span>                                                                      \n",
       "</pre>\n"
      ],
      "text/plain": [
       "\u001b[34mINFO    \u001b[0m Running shell command: \u001b[1m[\u001b[0m\u001b[32m'ls'\u001b[0m, \u001b[32m'-lh'\u001b[0m\u001b[1m]\u001b[0m                                                                      \n"
      ]
     },
     "metadata": {},
     "output_type": "display_data"
    },
    {
     "data": {
      "text/html": [
       "<pre style=\"white-space:pre;overflow-x:auto;line-height:normal;font-family:Menlo,'DejaVu Sans Mono',consolas,'Courier New',monospace\"><span style=\"color: #000080; text-decoration-color: #000080\">╭──────────┬──────────────────────────────────────────────────────────────────────────────────────────────────────╮</span>\n",
       "<span style=\"color: #000080; text-decoration-color: #000080\">│</span><span style=\"font-weight: bold\"> Message  </span><span style=\"color: #000080; text-decoration-color: #000080\">│</span><span style=\"font-weight: bold\"> Tell me the files in this directory and their size                                                   </span><span style=\"color: #000080; text-decoration-color: #000080\">│</span>\n",
       "<span style=\"color: #000080; text-decoration-color: #000080\">├──────────┼──────────────────────────────────────────────────────────────────────────────────────────────────────┤</span>\n",
       "<span style=\"color: #000080; text-decoration-color: #000080\">│</span> Response <span style=\"color: #000080; text-decoration-color: #000080\">│</span> The files in the current directory along with their sizes are as follows:                            <span style=\"color: #000080; text-decoration-color: #000080\">│</span>\n",
       "<span style=\"color: #000080; text-decoration-color: #000080\">│</span> (4.7s)   <span style=\"color: #000080; text-decoration-color: #000080\">│</span>                                                                                                      <span style=\"color: #000080; text-decoration-color: #000080\">│</span>\n",
       "<span style=\"color: #000080; text-decoration-color: #000080\">│</span>          <span style=\"color: #000080; text-decoration-color: #000080\">│</span> <span style=\"color: #808000; text-decoration-color: #808000; font-weight: bold\"> • </span><span style=\"color: #008080; text-decoration-color: #008080; background-color: #000000; font-weight: bold\">__init__.py</span> – Size: 0 bytes                                                                       <span style=\"color: #000080; text-decoration-color: #000080\">│</span>\n",
       "<span style=\"color: #000080; text-decoration-color: #000080\">│</span>          <span style=\"color: #000080; text-decoration-color: #000080\">│</span> <span style=\"color: #808000; text-decoration-color: #808000; font-weight: bold\"> • </span><span style=\"color: #008080; text-decoration-color: #008080; background-color: #000000; font-weight: bold\">auto_pdf_conversation.ipynb</span> – Size: 4.1 KB                                                        <span style=\"color: #000080; text-decoration-color: #000080\">│</span>\n",
       "<span style=\"color: #000080; text-decoration-color: #000080\">│</span>          <span style=\"color: #000080; text-decoration-color: #000080\">│</span> <span style=\"color: #808000; text-decoration-color: #808000; font-weight: bold\"> • </span><span style=\"color: #008080; text-decoration-color: #008080; background-color: #000000; font-weight: bold\">basics.ipynb</span> – Size: 13 KB                                                                        <span style=\"color: #000080; text-decoration-color: #000080\">│</span>\n",
       "<span style=\"color: #000080; text-decoration-color: #000080\">│</span>          <span style=\"color: #000080; text-decoration-color: #000080\">│</span> <span style=\"color: #808000; text-decoration-color: #808000; font-weight: bold\"> • </span><span style=\"color: #008080; text-decoration-color: #008080; background-color: #000000; font-weight: bold\">rag_pdf_conversation.ipynb</span> – Size: 9.3 KB                                                         <span style=\"color: #000080; text-decoration-color: #000080\">│</span>\n",
       "<span style=\"color: #000080; text-decoration-color: #000080\">│</span>          <span style=\"color: #000080; text-decoration-color: #000080\">│</span> <span style=\"color: #808000; text-decoration-color: #808000; font-weight: bold\"> • </span><span style=\"color: #008080; text-decoration-color: #008080; background-color: #000000; font-weight: bold\">vision.ipynb</span> – Size: 4.8 KB                                                                       <span style=\"color: #000080; text-decoration-color: #000080\">│</span>\n",
       "<span style=\"color: #000080; text-decoration-color: #000080\">╰──────────┴──────────────────────────────────────────────────────────────────────────────────────────────────────╯</span>\n",
       "</pre>\n"
      ],
      "text/plain": [
       "\u001b[34m╭──────────┬──────────────────────────────────────────────────────────────────────────────────────────────────────╮\u001b[0m\n",
       "\u001b[34m│\u001b[0m\u001b[1m \u001b[0m\u001b[1mMessage \u001b[0m\u001b[1m \u001b[0m\u001b[34m│\u001b[0m\u001b[1m \u001b[0m\u001b[1mTell me the files in this directory and their size                                                  \u001b[0m\u001b[1m \u001b[0m\u001b[34m│\u001b[0m\n",
       "\u001b[34m├──────────┼──────────────────────────────────────────────────────────────────────────────────────────────────────┤\u001b[0m\n",
       "\u001b[34m│\u001b[0m Response \u001b[34m│\u001b[0m The files in the current directory along with their sizes are as follows:                            \u001b[34m│\u001b[0m\n",
       "\u001b[34m│\u001b[0m (4.7s)   \u001b[34m│\u001b[0m                                                                                                      \u001b[34m│\u001b[0m\n",
       "\u001b[34m│\u001b[0m          \u001b[34m│\u001b[0m \u001b[1;33m • \u001b[0m\u001b[1;36;40m__init__.py\u001b[0m – Size: 0 bytes                                                                       \u001b[34m│\u001b[0m\n",
       "\u001b[34m│\u001b[0m          \u001b[34m│\u001b[0m \u001b[1;33m • \u001b[0m\u001b[1;36;40mauto_pdf_conversation.ipynb\u001b[0m – Size: 4.1 KB                                                        \u001b[34m│\u001b[0m\n",
       "\u001b[34m│\u001b[0m          \u001b[34m│\u001b[0m \u001b[1;33m • \u001b[0m\u001b[1;36;40mbasics.ipynb\u001b[0m – Size: 13 KB                                                                        \u001b[34m│\u001b[0m\n",
       "\u001b[34m│\u001b[0m          \u001b[34m│\u001b[0m \u001b[1;33m • \u001b[0m\u001b[1;36;40mrag_pdf_conversation.ipynb\u001b[0m – Size: 9.3 KB                                                         \u001b[34m│\u001b[0m\n",
       "\u001b[34m│\u001b[0m          \u001b[34m│\u001b[0m \u001b[1;33m • \u001b[0m\u001b[1;36;40mvision.ipynb\u001b[0m – Size: 4.8 KB                                                                       \u001b[34m│\u001b[0m\n",
       "\u001b[34m╰──────────┴──────────────────────────────────────────────────────────────────────────────────────────────────────╯\u001b[0m\n"
      ]
     },
     "metadata": {},
     "output_type": "display_data"
    }
   ],
   "source": [
    "from phi.agent.shell import ShellAgent\n",
    "from phi.conversation import Conversation\n",
    "\n",
    "shell_conversation = Conversation(agents=[ShellAgent()])\n",
    "\n",
    "shell_conversation.print_response(\"Tell me the files in this directory and their size\", stream=False)"
   ]
  }
 ],
 "metadata": {
  "kernelspec": {
   "display_name": "Python 3 (ipykernel)",
   "language": "python",
   "name": "python3"
  },
  "language_info": {
   "codemirror_mode": {
    "name": "ipython",
    "version": 3
   },
   "file_extension": ".py",
   "mimetype": "text/x-python",
   "name": "python",
   "nbconvert_exporter": "python",
   "pygments_lexer": "ipython3",
   "version": "3.11.5"
  }
 },
 "nbformat": 4,
 "nbformat_minor": 5
}
