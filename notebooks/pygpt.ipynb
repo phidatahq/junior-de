{
 "cells": [
  {
   "cell_type": "markdown",
   "id": "147a72de-12f6-4265-8ae6-78da85e90a0f",
   "metadata": {},
   "source": [
    "## PyGPT Cookbook\n",
    "\n",
    "This notebook shows common recipes for working with PyGPT"
   ]
  },
  {
   "cell_type": "markdown",
   "id": "7f9e44f4-86b1-4d42-8cc7-daea5f19df3c",
   "metadata": {},
   "source": [
    "### Create the conversation\n",
    "\n",
    "Create the conversation and load the database if needed "
   ]
  },
  {
   "cell_type": "code",
   "execution_count": null,
   "id": "fffebfba-7aa4-4e5c-a9db-3bcfdfe10145",
   "metadata": {
    "scrolled": true
   },
   "outputs": [],
   "source": [
    "from llm.conversations.pygpt_nb import get_pygpt_nb_conversation\n",
    "\n",
    "pygpt_conversation = get_pygpt_nb_conversation()"
   ]
  },
  {
   "cell_type": "markdown",
   "id": "ceae2749-acc8-4b1f-8b4f-04a82f499b6b",
   "metadata": {},
   "source": [
    "### Chat with PyGPT\n",
    "\n",
    "You can chat with a conversation using:\n",
    "1. The `print_response()` function that prints the reponse\n",
    "2. The `chat()` function that returns the response"
   ]
  },
  {
   "cell_type": "code",
   "execution_count": null,
   "id": "97e280f1-3e4b-48cd-b92c-7039f058fe7c",
   "metadata": {},
   "outputs": [],
   "source": [
    "pygpt_conversation.print_response(\"Which actor has the highest average movie rating?\", stream=False)"
   ]
  },
  {
   "cell_type": "code",
   "execution_count": null,
   "id": "ee21aa3d-88ef-4d54-b4f9-3edc278f7471",
   "metadata": {},
   "outputs": [],
   "source": [
    "rating_histogram_response = pygpt_conversation.chat(\n",
    "    \"Give me a histogram of movies by rating, decide the best bucket size?\", stream=False\n",
    ")\n",
    "print(rating_histogram_response)"
   ]
  }
 ],
 "metadata": {
  "kernelspec": {
   "display_name": "Python 3 (ipykernel)",
   "language": "python",
   "name": "python3"
  },
  "language_info": {
   "codemirror_mode": {
    "name": "ipython",
    "version": 3
   },
   "file_extension": ".py",
   "mimetype": "text/x-python",
   "name": "python",
   "nbconvert_exporter": "python",
   "pygments_lexer": "ipython3",
   "version": "3.11.5"
  }
 },
 "nbformat": 4,
 "nbformat_minor": 5
}
