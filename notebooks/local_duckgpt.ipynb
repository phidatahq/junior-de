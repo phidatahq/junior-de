{
 "cells": [
  {
   "cell_type": "markdown",
   "id": "147a72de-12f6-4265-8ae6-78da85e90a0f",
   "metadata": {},
   "source": [
    "## Local DuckGPT Cookbook\n",
    "\n",
    "This notebook shows common recipes for working with the local data using DuckGPT"
   ]
  },
  {
   "cell_type": "markdown",
   "id": "7f9e44f4-86b1-4d42-8cc7-daea5f19df3c",
   "metadata": {},
   "source": [
    "### Create the conversation\n",
    "\n",
    "Create the conversation and load the database if needed "
   ]
  },
  {
   "cell_type": "code",
   "execution_count": null,
   "id": "fffebfba-7aa4-4e5c-a9db-3bcfdfe10145",
   "metadata": {
    "scrolled": true
   },
   "outputs": [],
   "source": [
    "from duckgpt.local.conversation import duckdb_local_agent, get_duckgpt_local_conversation\n",
    "from duckgpt.local.load_tables import load_local_tables\n",
    "\n",
    "duckgpt_conversation = get_duckgpt_local_conversation()\n",
    "\n",
    "LOAD_DATABASE = True\n",
    "if LOAD_DATABASE:\n",
    "    load_local_tables(duckdb_agent=duckdb_local_agent)"
   ]
  },
  {
   "cell_type": "markdown",
   "id": "ceae2749-acc8-4b1f-8b4f-04a82f499b6b",
   "metadata": {},
   "source": [
    "### Chat with DuckGPT\n",
    "\n",
    "You can chat with a conversation using:\n",
    "1. The `print_response()` function that prints the reponse\n",
    "2. The `chat()` function that returns the response"
   ]
  },
  {
   "cell_type": "code",
   "execution_count": null,
   "id": "97e280f1-3e4b-48cd-b92c-7039f058fe7c",
   "metadata": {},
   "outputs": [],
   "source": [
    "duckgpt_conversation.print_response(\"Which actor has the highest average movie rating?\")"
   ]
  },
  {
   "cell_type": "code",
   "execution_count": null,
   "id": "ee21aa3d-88ef-4d54-b4f9-3edc278f7471",
   "metadata": {},
   "outputs": [],
   "source": [
    "rating_histogram_response = duckgpt_conversation.chat(\n",
    "    \"Give me a histogram of movies by rating, decide the best bucket size?\", stream=False\n",
    ")\n",
    "print(rating_histogram_response)"
   ]
  },
  {
   "cell_type": "markdown",
   "id": "01b9374b-b89f-4f63-8e46-ff616abc2c14",
   "metadata": {},
   "source": [
    "### Run a DuckDb Query\n",
    "\n",
    "You can run a DuckDb in 2 ways:\n",
    "1. Using the DuckDb connection directly\n",
    "2. Using the `run_query()` function of the duckdb_agent"
   ]
  },
  {
   "cell_type": "code",
   "execution_count": null,
   "id": "5c8165d3-b4ef-459d-b3d9-179d17cbe9e1",
   "metadata": {},
   "outputs": [],
   "source": [
    "duckdb_local_agent.run_query(\"SELECT * FROM Movies LIMIT 5\")"
   ]
  },
  {
   "cell_type": "code",
   "execution_count": null,
   "id": "1d21e8cd-4da8-4a55-8f1e-f5ad0aaa0157",
   "metadata": {},
   "outputs": [],
   "source": [
    "duckdb_local_agent.connection.sql(\"SELECT * FROM Movies LIMIT 5\").show()"
   ]
  }
 ],
 "metadata": {
  "kernelspec": {
   "display_name": "Python 3 (ipykernel)",
   "language": "python",
   "name": "python3"
  },
  "language_info": {
   "codemirror_mode": {
    "name": "ipython",
    "version": 3
   },
   "file_extension": ".py",
   "mimetype": "text/x-python",
   "name": "python",
   "nbconvert_exporter": "python",
   "pygments_lexer": "ipython3",
   "version": "3.11.5"
  }
 },
 "nbformat": 4,
 "nbformat_minor": 5
}
