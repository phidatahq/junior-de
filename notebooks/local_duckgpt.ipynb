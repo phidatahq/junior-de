{
 "cells": [
  {
   "cell_type": "markdown",
   "id": "147a72de-12f6-4265-8ae6-78da85e90a0f",
   "metadata": {},
   "source": [
    "## Local DuckGPT Cookbook\n",
    "\n",
    "This notebook shows common recipes for working with the local data using DuckGPT"
   ]
  },
  {
   "cell_type": "markdown",
   "id": "7f9e44f4-86b1-4d42-8cc7-daea5f19df3c",
   "metadata": {},
   "source": [
    "### Create the conversation\n",
    "\n",
    "Create the conversation and load the database if needed "
   ]
  },
  {
   "cell_type": "code",
   "execution_count": null,
   "id": "fffebfba-7aa4-4e5c-a9db-3bcfdfe10145",
   "metadata": {
    "scrolled": true
   },
   "outputs": [],
   "source": [
    "from duckgpt.local.conversation import duckdb_agent, get_duckgpt_conversation\n",
    "from duckgpt.local.load_tables import load_tables\n",
    "\n",
    "duckgpt_conversation = get_duckgpt_conversation()\n",
    "\n",
    "LOAD_DATABASE = True\n",
    "if LOAD_DATABASE:\n",
    "    load_tables(duckdb_agent=duckdb_agent)"
   ]
  },
  {
   "cell_type": "markdown",
   "id": "ceae2749-acc8-4b1f-8b4f-04a82f499b6b",
   "metadata": {},
   "source": [
    "### Chat with DuckGPT\n",
    "\n",
    "You can chat with a conversation using:\n",
    "1. The `print_response()` function that prints the reponse\n",
    "2. The `chat()` function that returns the response"
   ]
  },
  {
   "cell_type": "code",
   "execution_count": 2,
   "id": "97e280f1-3e4b-48cd-b92c-7039f058fe7c",
   "metadata": {},
   "outputs": [
    {
     "data": {
      "application/vnd.jupyter.widget-view+json": {
       "model_id": "7169d0058d6b4a5d86a558472e0169c4",
       "version_major": 2,
       "version_minor": 0
      },
      "text/plain": [
       "Output()"
      ]
     },
     "metadata": {},
     "output_type": "display_data"
    },
    {
     "data": {
      "text/html": [
       "<pre style=\"white-space:pre;overflow-x:auto;line-height:normal;font-family:Menlo,'DejaVu Sans Mono',consolas,'Courier New',monospace\"><span style=\"color: #000080; text-decoration-color: #000080\">INFO    </span> Running: SHOW TABLES                                                                                      \n",
       "</pre>\n"
      ],
      "text/plain": [
       "\u001b[34mINFO    \u001b[0m Running: SHOW TABLES                                                                                      \n"
      ]
     },
     "metadata": {},
     "output_type": "display_data"
    },
    {
     "data": {
      "text/html": [
       "<pre style=\"white-space:pre;overflow-x:auto;line-height:normal;font-family:Menlo,'DejaVu Sans Mono',consolas,'Courier New',monospace\"><span style=\"color: #000080; text-decoration-color: #000080\">INFO    </span> Running: DESCRIBE Movies                                                                                  \n",
       "</pre>\n"
      ],
      "text/plain": [
       "\u001b[34mINFO    \u001b[0m Running: DESCRIBE Movies                                                                                  \n"
      ]
     },
     "metadata": {},
     "output_type": "display_data"
    },
    {
     "data": {
      "text/html": [
       "<pre style=\"white-space:pre;overflow-x:auto;line-height:normal;font-family:Menlo,'DejaVu Sans Mono',consolas,'Courier New',monospace\"><span style=\"color: #000080; text-decoration-color: #000080\">INFO    </span> Running: WITH SplitActors AS <span style=\"font-weight: bold\">(</span>                                                                            \n",
       "             SELECT <span style=\"color: #800080; text-decoration-color: #800080; font-weight: bold\">TRIM</span><span style=\"font-weight: bold\">(</span><span style=\"color: #800080; text-decoration-color: #800080; font-weight: bold\">UNNEST</span><span style=\"font-weight: bold\">(</span><span style=\"color: #800080; text-decoration-color: #800080; font-weight: bold\">string_to_array</span><span style=\"font-weight: bold\">(</span>Actors, <span style=\"color: #008000; text-decoration-color: #008000\">','</span><span style=\"font-weight: bold\">)))</span> AS Actor,                                           \n",
       "                    Rating                                                                                         \n",
       "             FROM Movies                                                                                           \n",
       "             WHERE Actors IS NOT NULL AND Rating IS NOT NULL                                                       \n",
       "         <span style=\"font-weight: bold\">)</span>,                                                                                                        \n",
       "                                                                                                                   \n",
       "         AvgRatings AS <span style=\"font-weight: bold\">(</span>                                                                                           \n",
       "             SELECT Actor,                                                                                         \n",
       "                    <span style=\"color: #800080; text-decoration-color: #800080; font-weight: bold\">AVG</span><span style=\"font-weight: bold\">(</span>Rating<span style=\"font-weight: bold\">)</span> AS AvgRating                                                                       \n",
       "             FROM SplitActors                                                                                      \n",
       "             GROUP BY Actor                                                                                        \n",
       "         <span style=\"font-weight: bold\">)</span>                                                                                                         \n",
       "                                                                                                                   \n",
       "         SELECT Actor,                                                                                             \n",
       "                AvgRating                                                                                          \n",
       "         FROM AvgRatings                                                                                           \n",
       "         ORDER BY AvgRating DESC                                                                                   \n",
       "         LIMIT <span style=\"color: #008080; text-decoration-color: #008080; font-weight: bold\">1</span>                                                                                                   \n",
       "</pre>\n"
      ],
      "text/plain": [
       "\u001b[34mINFO    \u001b[0m Running: WITH SplitActors AS \u001b[1m(\u001b[0m                                                                            \n",
       "             SELECT \u001b[1;35mTRIM\u001b[0m\u001b[1m(\u001b[0m\u001b[1;35mUNNEST\u001b[0m\u001b[1m(\u001b[0m\u001b[1;35mstring_to_array\u001b[0m\u001b[1m(\u001b[0mActors, \u001b[32m','\u001b[0m\u001b[1m)\u001b[0m\u001b[1m)\u001b[0m\u001b[1m)\u001b[0m AS Actor,                                           \n",
       "                    Rating                                                                                         \n",
       "             FROM Movies                                                                                           \n",
       "             WHERE Actors IS NOT NULL AND Rating IS NOT NULL                                                       \n",
       "         \u001b[1m)\u001b[0m,                                                                                                        \n",
       "                                                                                                                   \n",
       "         AvgRatings AS \u001b[1m(\u001b[0m                                                                                           \n",
       "             SELECT Actor,                                                                                         \n",
       "                    \u001b[1;35mAVG\u001b[0m\u001b[1m(\u001b[0mRating\u001b[1m)\u001b[0m AS AvgRating                                                                       \n",
       "             FROM SplitActors                                                                                      \n",
       "             GROUP BY Actor                                                                                        \n",
       "         \u001b[1m)\u001b[0m                                                                                                         \n",
       "                                                                                                                   \n",
       "         SELECT Actor,                                                                                             \n",
       "                AvgRating                                                                                          \n",
       "         FROM AvgRatings                                                                                           \n",
       "         ORDER BY AvgRating DESC                                                                                   \n",
       "         LIMIT \u001b[1;36m1\u001b[0m                                                                                                   \n"
      ]
     },
     "metadata": {},
     "output_type": "display_data"
    },
    {
     "data": {
      "text/html": [
       "<pre style=\"white-space:pre;overflow-x:auto;line-height:normal;font-family:Menlo,'DejaVu Sans Mono',consolas,'Courier New',monospace\"></pre>\n"
      ],
      "text/plain": []
     },
     "metadata": {},
     "output_type": "display_data"
    }
   ],
   "source": [
    "duckgpt_conversation.print_response(\"Which actor has the highest average movie rating?\")"
   ]
  },
  {
   "cell_type": "code",
   "execution_count": null,
   "id": "ee21aa3d-88ef-4d54-b4f9-3edc278f7471",
   "metadata": {},
   "outputs": [],
   "source": [
    "rating_histogram_response = duckgpt_conversation.chat(\"Give me a histogram of movies by rating, decide the best bucket size?\", stream=False)\n",
    "print(rating_histogram_response)"
   ]
  },
  {
   "cell_type": "markdown",
   "id": "01b9374b-b89f-4f63-8e46-ff616abc2c14",
   "metadata": {},
   "source": [
    "### Run a DuckDb Query\n",
    "\n",
    "You can run a DuckDb in 2 ways:\n",
    "1. Using the DuckDb connection directly\n",
    "2. Using the `run_query()` function of the duckdb_agent"
   ]
  },
  {
   "cell_type": "code",
   "execution_count": null,
   "id": "5c8165d3-b4ef-459d-b3d9-179d17cbe9e1",
   "metadata": {},
   "outputs": [],
   "source": [
    "duckdb_agent.run_query(\"SELECT * FROM Movies LIMIT 5\")"
   ]
  },
  {
   "cell_type": "code",
   "execution_count": 8,
   "id": "1d21e8cd-4da8-4a55-8f1e-f5ad0aaa0157",
   "metadata": {},
   "outputs": [
    {
     "name": "stdout",
     "output_type": "stream",
     "text": [
      "┌───────┬──────────────────────┬──────────────────────┬───┬────────┬────────────────────┬───────────┐\n",
      "│ Rank  │        Title         │        Genre         │ … │ Votes  │ Revenue (Millions) │ Metascore │\n",
      "│ int64 │       varchar        │       varchar        │   │ int64  │       double       │   int64   │\n",
      "├───────┼──────────────────────┼──────────────────────┼───┼────────┼────────────────────┼───────────┤\n",
      "│     1 │ Guardians of the G…  │ Action,Adventure,S…  │ … │ 757074 │             333.13 │        76 │\n",
      "│     2 │ Prometheus           │ Adventure,Mystery,…  │ … │ 485820 │             126.46 │        65 │\n",
      "│     3 │ Split                │ Horror,Thriller      │ … │ 157606 │             138.12 │        62 │\n",
      "│     4 │ Sing                 │ Animation,Comedy,F…  │ … │  60545 │             270.32 │        59 │\n",
      "│     5 │ Suicide Squad        │ Action,Adventure,F…  │ … │ 393727 │             325.02 │        40 │\n",
      "├───────┴──────────────────────┴──────────────────────┴───┴────────┴────────────────────┴───────────┤\n",
      "│ 5 rows                                                                       12 columns (6 shown) │\n",
      "└───────────────────────────────────────────────────────────────────────────────────────────────────┘\n",
      "\n"
     ]
    }
   ],
   "source": [
    "duckdb_agent.connection.sql(\"SELECT * FROM Movies LIMIT 5\").show()"
   ]
  }
 ],
 "metadata": {
  "kernelspec": {
   "display_name": "Python 3 (ipykernel)",
   "language": "python",
   "name": "python3"
  },
  "language_info": {
   "codemirror_mode": {
    "name": "ipython",
    "version": 3
   },
   "file_extension": ".py",
   "mimetype": "text/x-python",
   "name": "python",
   "nbconvert_exporter": "python",
   "pygments_lexer": "ipython3",
   "version": "3.11.5"
  }
 },
 "nbformat": 4,
 "nbformat_minor": 5
}
